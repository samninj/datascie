{
 "cells": [
  {
   "cell_type": "code",
   "execution_count": null,
   "id": "8d9885de-10ff-41c8-a3b6-8e6cb3bae407",
   "metadata": {},
   "outputs": [],
   "source": []
  },
  {
   "cell_type": "code",
   "execution_count": 15,
   "id": "80bc9b98-7ea3-444a-a4b0-6dcd908ca71a",
   "metadata": {},
   "outputs": [
    {
     "name": "stdout",
     "output_type": "stream",
     "text": [
      "dushyant\n"
     ]
    }
   ],
   "source": [
    "print(\"dushyant\")"
   ]
  },
  {
   "cell_type": "markdown",
   "id": "de31b378-3178-4b06-8def-cdc93012d657",
   "metadata": {},
   "source": [
    "dushyant"
   ]
  },
  {
   "cell_type": "code",
   "execution_count": 22,
   "id": "febec092-3637-43e1-ae72-37c5211bc72b",
   "metadata": {},
   "outputs": [
    {
     "data": {
      "text/plain": [
       "50"
      ]
     },
     "execution_count": 22,
     "metadata": {},
     "output_type": "execute_result"
    }
   ],
   "source": [
    "24+26"
   ]
  },
  {
   "cell_type": "code",
   "execution_count": 25,
   "id": "bfb7b9ba-a25f-47f4-a4a0-42d5c026ea5b",
   "metadata": {},
   "outputs": [
    {
     "data": {
      "text/plain": [
       "144"
      ]
     },
     "execution_count": 25,
     "metadata": {},
     "output_type": "execute_result"
    }
   ],
   "source": [
    "12*12"
   ]
  },
  {
   "cell_type": "code",
   "execution_count": 27,
   "id": "8a534355-872f-496d-aa32-d01cc3222bbd",
   "metadata": {},
   "outputs": [
    {
     "data": {
      "text/plain": [
       "30511.0"
      ]
     },
     "execution_count": 27,
     "metadata": {},
     "output_type": "execute_result"
    }
   ],
   "source": [
    "152555/5"
   ]
  },
  {
   "cell_type": "raw",
   "id": "e9d9abed-aba1-4ac1-ae70-212e15db5163",
   "metadata": {},
   "source": []
  }
 ],
 "metadata": {
  "kernelspec": {
   "display_name": "Python 3 (ipykernel)",
   "language": "python",
   "name": "python3"
  },
  "language_info": {
   "codemirror_mode": {
    "name": "ipython",
    "version": 3
   },
   "file_extension": ".py",
   "mimetype": "text/x-python",
   "name": "python",
   "nbconvert_exporter": "python",
   "pygments_lexer": "ipython3",
   "version": "3.12.4"
  }
 },
 "nbformat": 4,
 "nbformat_minor": 5
}
